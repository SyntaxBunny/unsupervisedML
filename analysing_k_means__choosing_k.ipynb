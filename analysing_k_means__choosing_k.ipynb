{
  "cells": [
    {
      "cell_type": "markdown",
      "metadata": {
        "id": "8g5SPWMyiLtN"
      },
      "source": [
        "# Analyzing k-means and Finding the Right Number of Clusters\n",
        "\n",
        "When using k-means clustering, you need to decide how many groups (or clusters) your data should be divided into. This number is called k, and choosing it carefully is very important:\n",
        "\n",
        "If k is too small, you might combine things that don’t really belong together, missing important patterns.\n",
        "If k is too large, the groups will be so tiny that they lose meaning and don’t help us understand the data.\n",
        "To find the best k, we can use two common methods:\n",
        "\n",
        "The Inertia Elbow Method: This looks at how \"compact\" the clusters are as we try different k values, helping us find a point where adding more clusters doesn't improve much.\n",
        "\n",
        "The Silhouette Score: This measures how well each data point fits into its cluster. A higher score means better clusters."
      ]
    },
    {
      "cell_type": "markdown",
      "metadata": {
        "id": "xJrChU7o8eIU"
      },
      "source": [
        "---\n",
        "## 1.&nbsp; Import libraries and files 💾"
      ]
    },
    {
      "cell_type": "code",
      "execution_count": null,
      "metadata": {
        "id": "d5szg7CJ8IK4"
      },
      "outputs": [],
      "source": [
        "import pandas as pd\n",
        "\n",
        "from sklearn.preprocessing import MinMaxScaler\n",
        "from sklearn.cluster import KMeans\n",
        "from sklearn.metrics import silhouette_score\n",
        "\n",
        "import seaborn as sns\n",
        "import plotly.graph_objects as go"
      ]
    },
    {
      "cell_type": "code",
      "execution_count": null,
      "metadata": {
        "id": "779-V98w8slr",
        "colab": {
          "base_uri": "https://localhost:8080/"
        },
        "outputId": "24cf2b58-f741-499d-9a3c-9cd78c78cb17"
      },
      "outputs": [
        {
          "output_type": "stream",
          "name": "stdout",
          "text": [
            "      danceability  energy  loudness  speechiness acousticness  \\\n",
            "5230         202.0   694.0   -23.390        473.0          917   \n",
            "5231         188.0   101.0   -21.873        442.0          855   \n",
            "5232         596.0    93.0   -42.959        434.0          951   \n",
            "5233         133.0   208.0   -29.443        419.0          883   \n",
            "5234         354.0   487.0   -24.568        323.0          783   \n",
            "\n",
            "     instrumentalness  liveness  valence   tempo  \n",
            "5230              715     832.0    655.0  87.906  \n",
            "5231              426     694.0    355.0  83.134  \n",
            "5232              969     772.0    344.0  71.573  \n",
            "5233              505     111.0    591.0  67.109  \n",
            "5234              484     284.0    253.0  64.120  \n"
          ]
        }
      ],
      "source": [
        "import pandas as pd\n",
        "from sklearn.preprocessing import MinMaxScaler\n",
        "\n",
        "# Get the spreadsheet ID and name\n",
        "sheet_id = \"1CSkJ7w90A+++++++++++++++++++++++++++++++++++E70pKE\"\n",
        "sheet_name = \"2087670046\"\n",
        "\n",
        "# Construct the URL to the CSV export of the spreadsheet\n",
        "url = f\"https://docs.google.com/spreadsheets/d/{sheet_id}/export?format=csv&gid={sheet_name}\"\n",
        "\n",
        "# Read the CSV data into a Pandas DataFrame\n",
        "# Set the index column to `artist` and drop the `name` column\n",
        "songs_df = pd.read_csv(url, index_col=\"Unnamed: 0\").drop(columns=[\"name\", \"id\", \"type\", \"key\",\"mode\", \"html\", \"duration_ms\",\"time_signature\", \"artist\"])\n",
        "\n",
        "# Display the first few rows to confirm the data is loaded correctly\n",
        "print(songs_df.tail())\n",
        "\n"
      ]
    },
    {
      "cell_type": "markdown",
      "metadata": {
        "id": "LOeo-RpZ87tE"
      },
      "source": [
        "---\n",
        "## 2.&nbsp; Scale the data 📐\n",
        "In this notebook, we are only using the MinMaxScaler to keep the code simple and focus on the inertia and silhouette scores. However, we encourage you to experiment with other scalers, as they can have a impact."
      ]
    },
    {
      "cell_type": "code",
      "execution_count": null,
      "metadata": {
        "id": "z_sR6bNp8s3E",
        "colab": {
          "base_uri": "https://localhost:8080/"
        },
        "outputId": "b273bccf-a676-4af3-a30e-97deb746278b"
      },
      "outputs": [
        {
          "output_type": "stream",
          "name": "stdout",
          "text": [
            "   danceability    energy  loudness  speechiness  liveness   valence     tempo\n",
            "0      0.661972  0.259259  0.529571     0.705706  0.975976  0.306613  0.515800\n",
            "1      0.746479  0.399399  0.529861     0.346346  0.107107  0.694389  0.584322\n",
            "2      0.856137  0.000731  0.530800     0.347347  0.124124  0.906814  0.437862\n",
            "3      0.709256  0.502503  0.526650     0.471471  0.386386  0.525050  0.499098\n",
            "4      0.654930  0.119119  0.525656     0.038038  0.104104  0.402806  0.565171\n"
          ]
        }
      ],
      "source": [
        "\n",
        "# Handle NaNs and scale the features\n",
        "songs_numeric_df = songs_df.select_dtypes(include=['float64', 'int64']).fillna(0)  # Filter numeric data and fill NaNs\n",
        "scaler = MinMaxScaler().set_output(transform=\"pandas\")\n",
        "scaled_features_df = scaler.fit_transform(songs_numeric_df)\n",
        "\n",
        "# Display the scaled DataFrame\n",
        "print(scaled_features_df.head())"
      ]
    },
    {
      "cell_type": "markdown",
      "metadata": {
        "id": "VN2TT0OCuZPW"
      },
      "source": [
        "---\n",
        "## 3.&nbsp; Estimate the number of clusters (k) 🔢"
      ]
    },
    {
      "cell_type": "markdown",
      "metadata": {
        "id": "gRyU51AqflMB"
      },
      "source": [
        "### 3.1.&nbsp; Inertia and the elbow method\n",
        "\n",
        "In clustering, inertia is a measure of how well data points fit into their assigned clusters. Lower inertia indicates a better fit. However, minimising inertia alone can lead to meaningless clusters, with each data point in its own cluster.\n",
        "\n",
        "The elbow method is a visual aid for identifying the optimal number of clusters. It plots inertia values for different cluster numbers, revealing an \"elbow\" where the inertia reduction begins to plateau. This plateau indicates that reducing inertia further has little impact on cluster quality."
      ]
    },
    {
      "cell_type": "markdown",
      "metadata": {
        "id": "aw_CtLgKol_n"
      },
      "source": [
        "To find the inertia score for our clusters, we can use the [KMeans attribute ](https://scikit-learn.org/stable/modules/generated/sklearn.cluster.KMeans.html)`.inertia_`.\n",
        "\n",
        "We will cluster our food preferences data multiple times, starting with 1 cluster and increasing the number of clusters by 1 each time until we reach `max_k`. We will store the inertia score for each clustering in a list.\n",
        "\n",
        "Once we've calculated the inertia scores for all values of k, we'll plot them on a line chart. We'll then look for the \"elbow\" in the line chart. The elbow is the point where the inertia score starts to plateau, indicating that adding more clusters is not significantly improving the quality of the clustering."
      ]
    },
    {
      "cell_type": "code",
      "execution_count": null,
      "metadata": {
        "id": "VRNfWJXT7BdM",
        "outputId": "7c64ae57-a188-4678-c719-4c15f5923f89",
        "colab": {
          "base_uri": "https://localhost:8080/"
        }
      },
      "outputs": [
        {
          "output_type": "stream",
          "name": "stdout",
          "text": [
            "Inertia Scores: [2139.5395674787287, 1754.0553736948061, 1498.8767247111723, 1246.0201228731466, 1148.9907303053758, 1050.2737076453266, 978.1022693277696, 908.3216165560739, 868.9635469196828, 821.0570599184365, 800.4045350837981, 772.4179761235396]\n"
          ]
        }
      ],
      "source": [
        "from sklearn.cluster import KMeans\n",
        "\n",
        "# Decide on a random_state to use for reproducibility\n",
        "seed = 123\n",
        "\n",
        "# Set the maximum number of clusters to try\n",
        "max_k = 12\n",
        "\n",
        "# Create an empty list to store the inertia scores\n",
        "inertia_list = []\n",
        "\n",
        "# Iterate over the range of cluster numbers\n",
        "for k in range(1, max_k + 1):\n",
        "    # Create a KMeans object with k clusters\n",
        "    kmeans = KMeans(n_clusters=k, n_init=\"auto\", random_state=seed)\n",
        "\n",
        "    # Fit the KMeans model to the scaled data\n",
        "    kmeans.fit(scaled_features_df)\n",
        "\n",
        "    # Append the inertia score (sum of squared distances) to the list\n",
        "    inertia_list.append(kmeans.inertia_)\n",
        "\n",
        "# Display the inertia scores\n",
        "print(\"Inertia Scores:\", inertia_list)\n"
      ]
    },
    {
      "cell_type": "markdown",
      "source": [],
      "metadata": {
        "id": "LFygE75mfB91"
      }
    },
    {
      "cell_type": "markdown",
      "source": [
        "#Visualize the Elbow Method"
      ],
      "metadata": {
        "id": "1dy_oTYlfG9R"
      }
    },
    {
      "cell_type": "code",
      "execution_count": null,
      "metadata": {
        "colab": {
          "base_uri": "https://localhost:8080/",
          "height": 487
        },
        "id": "mXtq4WkxwlzV",
        "outputId": "a9f103dc-248d-4f71-d76d-ddea0930b46c"
      },
      "outputs": [
        {
          "output_type": "display_data",
          "data": {
            "text/plain": [
              "<Figure size 800x500 with 1 Axes>"
            ],
            "image/png": "[encoded data removed]"
          },
          "metadata": {}
        }
      ],
      "source": [
        "import matplotlib.pyplot as plt\n",
        "\n",
        "# Plot the inertia scores\n",
        "plt.figure(figsize=(8, 5))\n",
        "plt.plot(range(1, max_k + 1), inertia_list, marker='o')\n",
        "plt.xlabel('Number of Clusters (k)')\n",
        "plt.ylabel('Inertia')\n",
        "plt.title('Elbow Method for Optimal k')\n",
        "plt.grid()\n",
        "plt.show()\n"
      ]
    },
    {
      "cell_type": "markdown",
      "metadata": {
        "id": "kGIXe8ls4yoQ"
      },
      "source": [
        "Where the elbow lies is not always clear - it's up to you to decide, you're the data scientist. If there are multiple points where you believe the elbow could be, use your knowledge of the business case to inform your decision. How many data points do you have? How many would be in a cluster if you chose this number of clusters? What is the point of making these clusters? Is there a logical number of clusters, where if you make more clusters they just become too small for your business case?\n",
        "> The elbow method is a heuristic, meaning that it is not guaranteed to find the optimal number of clusters in all cases."
      ]
    },
    {
      "cell_type": "markdown",
      "metadata": {
        "id": "U9HokpG4zZit"
      },
      "source": [
        "### 3.2.&nbsp; The silhouette score\n",
        "The silhouette score is another metric for evaluating the quality of clustering results. It measures how well each data point is assigned to its cluster, taking into account the distance to other clusters. The silhouette score ranges from -1 to 1, with higher scores indicating better clustering.\n",
        "\n",
        "The silhouette score can be used to identify the optimal number of clusters by clustering the data with different numbers of clusters and selecting the number of clusters that has the highest the silhouette score.\n",
        "\n",
        "To calculate the silhouette score we'll use the [SKLearn function ](https://scikit-learn.org/stable/modules/generated/sklearn.metrics.silhouette_score.html)`silhouette_score`."
      ]
    },
    {
      "cell_type": "code",
      "execution_count": null,
      "metadata": {
        "id": "Bfh1wB4B0GdL",
        "outputId": "6c2e7eba-a2db-411e-9d57-7cbe7e60e07e",
        "colab": {
          "base_uri": "https://localhost:8080/"
        }
      },
      "outputs": [
        {
          "output_type": "stream",
          "name": "stdout",
          "text": [
            "Silhouette Scores: [0.20789537758865362, 0.17906356423036773, 0.20297597140126922, 0.20816169732160186, 0.20746141892367895, 0.20903835183528705, 0.20744598916252813, 0.19739768757061774, 0.1970439083931987, 0.18739905579963206]\n"
          ]
        }
      ],
      "source": [
        "from sklearn.cluster import KMeans\n",
        "from sklearn.metrics import silhouette_score\n",
        "\n",
        "# Set the maximum number of clusters to try\n",
        "max_k = 12\n",
        "\n",
        "# Create an empty list to store the silhouette scores\n",
        "sil_scores = []\n",
        "\n",
        "# Loop through cluster numbers from 2 to max_k (silhouette requires at least 2 clusters)\n",
        "for k in range(2, max_k):\n",
        "    # Create a KMeans object with the specified number of clusters\n",
        "    kmeans = KMeans(n_clusters=k, n_init=\"auto\", random_state=seed)\n",
        "\n",
        "    # Fit the KMeans model to the scaled data\n",
        "    kmeans.fit(scaled_features_df)\n",
        "\n",
        "    # Get the cluster labels\n",
        "    labels = kmeans.labels_\n",
        "\n",
        "    # Calculate the silhouette score for the current clustering\n",
        "    score = silhouette_score(scaled_features_df, labels)\n",
        "\n",
        "    # Append the silhouette score to the list\n",
        "    sil_scores.append(score)\n",
        "\n",
        "# Display the silhouette scores\n",
        "print(\"Silhouette Scores:\", sil_scores)\n"
      ]
    },
    {
      "cell_type": "markdown",
      "source": [],
      "metadata": {
        "id": "qXQ0BdFOfoMa"
      }
    },
    {
      "cell_type": "markdown",
      "source": [
        "# Visualize Silhouette Scores"
      ],
      "metadata": {
        "id": "5CVfEp-ofsBP"
      }
    },
    {
      "cell_type": "code",
      "execution_count": null,
      "metadata": {
        "colab": {
          "base_uri": "https://localhost:8080/",
          "height": 487
        },
        "id": "xY-mvnQP2xkb",
        "outputId": "c4fcf752-f6dc-4a7d-bf29-0fc998d2a594"
      },
      "outputs": [
        {
          "output_type": "display_data",
          "data": {
            "text/plain": [
              "<Figure size 800x500 with 1 Axes>"
            ],
            "image/png": "[encoded data removed]"
          },
          "metadata": {}
        }
      ],
      "source": [
        "import matplotlib.pyplot as plt\n",
        "\n",
        "# Plot the silhouette scores\n",
        "plt.figure(figsize=(8, 5))\n",
        "plt.plot(range(2, max_k), sil_scores, marker='o')\n",
        "plt.xlabel(\"Number of Clusters (k)\")\n",
        "plt.ylabel(\"Silhouette Score\")\n",
        "plt.title(\"Silhouette Scores for K-Means Clustering\")\n",
        "plt.grid()\n",
        "plt.show()\n"
      ]
    },
    {
      "cell_type": "markdown",
      "metadata": {
        "id": "XxqqembhYJ3W"
      },
      "source": [
        "To determine the optimal number of clusters, we can look for the highest silhouette score. This score measures how well each point is assigned to its cluster, with higher scores indicating better clustering.\n",
        "\n",
        "However, the highest silhouette score may not always be the best choice. For example, if the score is very high for a large number of clusters, it may be a sign that the clusters are too finely grained and that we are overfitting the data.\n",
        "\n",
        "In addition, we should consider our business objectives and the data we are using. For example, if we are clustering customers based on their purchase history, we may want to choose a smaller number of clusters so that we can easily identify different customer segments.\n",
        "\n",
        "Therefore, it's important to use the silhouette score in conjunction with other methods, such as the elbow method, and to consider our business objectives and the data we are using when choosing the optimal number of clusters.\n",
        "> You can also experiment with different values for random_state. It's possible that you got a \"bad seed\" and this is leading to misleading results. Make sure to use the same random_state for both the inertia and silhouette methods so that you are comparing the same clusters."
      ]
    },
    {
      "cell_type": "markdown",
      "metadata": {
        "id": "QIOS7LQQd4DP"
      },
      "source": [
        "---\n",
        "## 4.&nbsp; Explore the cluster means 🗺️"
      ]
    },
    {
      "cell_type": "markdown",
      "metadata": {
        "id": "oZnHMrWFeitU"
      },
      "source": [
        "#### 4.1.&nbsp; Column averages\n",
        "By grouping the clusters and looking at the average score for each column, you can learn more about the different groups of students and their food preferences. For example, you might find that one group of students prefers healthy foods like broccoli and peas, while another group prefers more processed foods like hamburgers. You might also find that some groups of students have a more diverse range of food preferences than others."
      ]
    },
    {
      "cell_type": "code",
      "execution_count": null,
      "metadata": {
        "colab": {
          "base_uri": "https://localhost:8080/"
        },
        "id": "zmGm223ie2Yn",
        "outputId": "23129e87-0818-4dfd-8efd-7cd880a87548"
      },
      "outputs": [
        {
          "output_type": "stream",
          "name": "stdout",
          "text": [
            "   danceability    energy  loudness  speechiness  liveness   valence  \\\n",
            "0      0.661972  0.259259  0.529571     0.705706  0.975976  0.306613   \n",
            "1      0.746479  0.399399  0.529861     0.346346  0.107107  0.694389   \n",
            "2      0.856137  0.000731  0.530800     0.347347  0.124124  0.906814   \n",
            "3      0.709256  0.502503  0.526650     0.471471  0.386386  0.525050   \n",
            "\n",
            "      tempo  cluster  \n",
            "0  0.515800        3  \n",
            "1  0.584322        1  \n",
            "2  0.437862        2  \n",
            "3  0.499098        1  \n"
          ]
        }
      ],
      "source": [
        "from sklearn.cluster import KMeans\n",
        "\n",
        "# Initialise the model\n",
        "my_kmeans = KMeans(n_clusters= 4,# Number of clusters\n",
        "                   random_state=123)\n",
        "\n",
        "# Fit the model to the data\n",
        "my_kmeans.fit(scaled_features_df)\n",
        "\n",
        "# Obtain the cluster output\n",
        "clusters = my_kmeans.labels_\n",
        "\n",
        "# Attach the cluster output to the scaled DataFrame\n",
        "scaled_features_df[\"cluster\"] = clusters\n",
        "\n",
        "# Display the first few rows with the cluster labels\n",
        "print(scaled_features_df.head(4))\n"
      ]
    },
    {
      "cell_type": "code",
      "execution_count": null,
      "metadata": {
        "colab": {
          "base_uri": "https://localhost:8080/",
          "height": 206
        },
        "id": "VD-mwfpgFM6w",
        "outputId": "da4786f0-e84c-4bf8-c4c4-42eb1845038a"
      },
      "outputs": [
        {
          "output_type": "execute_result",
          "data": {
            "text/plain": [
              "         danceability    energy  loudness  speechiness  liveness   valence  \\\n",
              "cluster                                                                      \n",
              "0            0.303198  0.848930  0.532304     0.397786  0.215714  0.272103   \n",
              "1            0.592081  0.751037  0.532592     0.397977  0.455033  0.629544   \n",
              "2            0.442749  0.200137  0.528432     0.390311  0.809754  0.399075   \n",
              "3            0.444543  0.190599  0.528970     0.372990  0.153287  0.391206   \n",
              "\n",
              "            tempo  \n",
              "cluster            \n",
              "0        0.569315  \n",
              "1        0.559710  \n",
              "2        0.527023  \n",
              "3        0.534810  "
            ],
            "text/html": [
              "\n",
              "  <div id=\"df-82351755-dd5b-41f4-b0ca-174046103c6d\" class=\"colab-df-container\">\n",
              "    <div>\n",
              "<style scoped>\n",
              "    .dataframe tbody tr th:only-of-type {\n",
              "        vertical-align: middle;\n",
              "    }\n",
              "\n",
              "    .dataframe tbody tr th {\n",
              "        vertical-align: top;\n",
              "    }\n",
              "\n",
              "    .dataframe thead th {\n",
              "        text-align: right;\n",
              "    }\n",
              "</style>\n",
              "<table border=\"1\" class=\"dataframe\">\n",
              "  <thead>\n",
              "    <tr style=\"text-align: right;\">\n",
              "      <th></th>\n",
              "      <th>danceability</th>\n",
              "      <th>energy</th>\n",
              "      <th>loudness</th>\n",
              "      <th>speechiness</th>\n",
              "      <th>liveness</th>\n",
              "      <th>valence</th>\n",
              "      <th>tempo</th>\n",
              "    </tr>\n",
              "    <tr>\n",
              "      <th>cluster</th>\n",
              "      <th></th>\n",
              "      <th></th>\n",
              "      <th></th>\n",
              "      <th></th>\n",
              "      <th></th>\n",
              "      <th></th>\n",
              "      <th></th>\n",
              "    </tr>\n",
              "  </thead>\n",
              "  <tbody>\n",
              "    <tr>\n",
              "      <th>0</th>\n",
              "      <td>0.303198</td>\n",
              "      <td>0.848930</td>\n",
              "      <td>0.532304</td>\n",
              "      <td>0.397786</td>\n",
              "      <td>0.215714</td>\n",
              "      <td>0.272103</td>\n",
              "      <td>0.569315</td>\n",
              "    </tr>\n",
              "    <tr>\n",
              "      <th>1</th>\n",
              "      <td>0.592081</td>\n",
              "      <td>0.751037</td>\n",
              "      <td>0.532592</td>\n",
              "      <td>0.397977</td>\n",
              "      <td>0.455033</td>\n",
              "      <td>0.629544</td>\n",
              "      <td>0.559710</td>\n",
              "    </tr>\n",
              "    <tr>\n",
              "      <th>2</th>\n",
              "      <td>0.442749</td>\n",
              "      <td>0.200137</td>\n",
              "      <td>0.528432</td>\n",
              "      <td>0.390311</td>\n",
              "      <td>0.809754</td>\n",
              "      <td>0.399075</td>\n",
              "      <td>0.527023</td>\n",
              "    </tr>\n",
              "    <tr>\n",
              "      <th>3</th>\n",
              "      <td>0.444543</td>\n",
              "      <td>0.190599</td>\n",
              "      <td>0.528970</td>\n",
              "      <td>0.372990</td>\n",
              "      <td>0.153287</td>\n",
              "      <td>0.391206</td>\n",
              "      <td>0.534810</td>\n",
              "    </tr>\n",
              "  </tbody>\n",
              "</table>\n",
              "</div>\n",
              "    <div class=\"colab-df-buttons\">\n",
              "\n",
              "  <div class=\"colab-df-container\">\n",
              "    <button class=\"colab-df-convert\" onclick=\"convertToInteractive('df-82351755-dd5b-41f4-b0ca-174046103c6d')\"\n",
              "            title=\"Convert this dataframe to an interactive table.\"\n",
              "            style=\"display:none;\">\n",
              "\n",
              "  <svg xmlns=\"http://www.w3.org/2000/svg\" height=\"24px\" viewBox=\"0 -960 960 960\">\n",
              "    <path d=\"M120-120v-720h720v720H120Zm60-500h600v-160H180v160Zm220 220h160v-160H400v160Zm0 220h160v-160H400v160ZM180-400h160v-160H180v160Zm440 0h160v-160H620v160ZM180-180h160v-160H180v160Zm440 0h160v-160H620v160Z\"/>\n",
              "  </svg>\n",
              "    </button>\n",
              "\n",
              "  <style>\n",
              "    .colab-df-container {\n",
              "      display:flex;\n",
              "      gap: 12px;\n",
              "    }\n",
              "\n",
              "    .colab-df-convert {\n",
              "      background-color: #E8F0FE;\n",
              "      border: none;\n",
              "      border-radius: 50%;\n",
              "      cursor: pointer;\n",
              "      display: none;\n",
              "      fill: #1967D2;\n",
              "      height: 32px;\n",
              "      padding: 0 0 0 0;\n",
              "      width: 32px;\n",
              "    }\n",
              "\n",
              "    .colab-df-convert:hover {\n",
              "      background-color: #E2EBFA;\n",
              "      box-shadow: 0px 1px 2px rgba(60, 64, 67, 0.3), 0px 1px 3px 1px rgba(60, 64, 67, 0.15);\n",
              "      fill: #174EA6;\n",
              "    }\n",
              "\n",
              "    .colab-df-buttons div {\n",
              "      margin-bottom: 4px;\n",
              "    }\n",
              "\n",
              "    [theme=dark] .colab-df-convert {\n",
              "      background-color: #3B4455;\n",
              "      fill: #D2E3FC;\n",
              "    }\n",
              "\n",
              "    [theme=dark] .colab-df-convert:hover {\n",
              "      background-color: #434B5C;\n",
              "      box-shadow: 0px 1px 3px 1px rgba(0, 0, 0, 0.15);\n",
              "      filter: drop-shadow(0px 1px 2px rgba(0, 0, 0, 0.3));\n",
              "      fill: #FFFFFF;\n",
              "    }\n",
              "  </style>\n",
              "\n",
              "    <script>\n",
              "      const buttonEl =\n",
              "        document.querySelector('#df-82351755-dd5b-41f4-b0ca-174046103c6d button.colab-df-convert');\n",
              "      buttonEl.style.display =\n",
              "        google.colab.kernel.accessAllowed ? 'block' : 'none';\n",
              "\n",
              "      async function convertToInteractive(key) {\n",
              "        const element = document.querySelector('#df-82351755-dd5b-41f4-b0ca-174046103c6d');\n",
              "        const dataTable =\n",
              "          await google.colab.kernel.invokeFunction('convertToInteractive',\n",
              "                                                    [key], {});\n",
              "        if (!dataTable) return;\n",
              "\n",
              "        const docLinkHtml = 'Like what you see? Visit the ' +\n",
              "          '<a target=\"_blank\" href=https://colab.research.google.com/notebooks/data_table.ipynb>data table notebook</a>'\n",
              "          + ' to learn more about interactive tables.';\n",
              "        element.innerHTML = '';\n",
              "        dataTable['output_type'] = 'display_data';\n",
              "        await google.colab.output.renderOutput(dataTable, element);\n",
              "        const docLink = document.createElement('div');\n",
              "        docLink.innerHTML = docLinkHtml;\n",
              "        element.appendChild(docLink);\n",
              "      }\n",
              "    </script>\n",
              "  </div>\n",
              "\n",
              "\n",
              "<div id=\"df-41489e4e-a83b-422e-aefd-b80c8ed2a256\">\n",
              "  <button class=\"colab-df-quickchart\" onclick=\"quickchart('df-41489e4e-a83b-422e-aefd-b80c8ed2a256')\"\n",
              "            title=\"Suggest charts\"\n",
              "            style=\"display:none;\">\n",
              "\n",
              "<svg xmlns=\"http://www.w3.org/2000/svg\" height=\"24px\"viewBox=\"0 0 24 24\"\n",
              "     width=\"24px\">\n",
              "    <g>\n",
              "        <path d=\"M19 3H5c-1.1 0-2 .9-2 2v14c0 1.1.9 2 2 2h14c1.1 0 2-.9 2-2V5c0-1.1-.9-2-2-2zM9 17H7v-7h2v7zm4 0h-2V7h2v10zm4 0h-2v-4h2v4z\"/>\n",
              "    </g>\n",
              "</svg>\n",
              "  </button>\n",
              "\n",
              "<style>\n",
              "  .colab-df-quickchart {\n",
              "      --bg-color: #E8F0FE;\n",
              "      --fill-color: #1967D2;\n",
              "      --hover-bg-color: #E2EBFA;\n",
              "      --hover-fill-color: #174EA6;\n",
              "      --disabled-fill-color: #AAA;\n",
              "      --disabled-bg-color: #DDD;\n",
              "  }\n",
              "\n",
              "  [theme=dark] .colab-df-quickchart {\n",
              "      --bg-color: #3B4455;\n",
              "      --fill-color: #D2E3FC;\n",
              "      --hover-bg-color: #434B5C;\n",
              "      --hover-fill-color: #FFFFFF;\n",
              "      --disabled-bg-color: #3B4455;\n",
              "      --disabled-fill-color: #666;\n",
              "  }\n",
              "\n",
              "  .colab-df-quickchart {\n",
              "    background-color: var(--bg-color);\n",
              "    border: none;\n",
              "    border-radius: 50%;\n",
              "    cursor: pointer;\n",
              "    display: none;\n",
              "    fill: var(--fill-color);\n",
              "    height: 32px;\n",
              "    padding: 0;\n",
              "    width: 32px;\n",
              "  }\n",
              "\n",
              "  .colab-df-quickchart:hover {\n",
              "    background-color: var(--hover-bg-color);\n",
              "    box-shadow: 0 1px 2px rgba(60, 64, 67, 0.3), 0 1px 3px 1px rgba(60, 64, 67, 0.15);\n",
              "    fill: var(--button-hover-fill-color);\n",
              "  }\n",
              "\n",
              "  .colab-df-quickchart-complete:disabled,\n",
              "  .colab-df-quickchart-complete:disabled:hover {\n",
              "    background-color: var(--disabled-bg-color);\n",
              "    fill: var(--disabled-fill-color);\n",
              "    box-shadow: none;\n",
              "  }\n",
              "\n",
              "  .colab-df-spinner {\n",
              "    border: 2px solid var(--fill-color);\n",
              "    border-color: transparent;\n",
              "    border-bottom-color: var(--fill-color);\n",
              "    animation:\n",
              "      spin 1s steps(1) infinite;\n",
              "  }\n",
              "\n",
              "  @keyframes spin {\n",
              "    0% {\n",
              "      border-color: transparent;\n",
              "      border-bottom-color: var(--fill-color);\n",
              "      border-left-color: var(--fill-color);\n",
              "    }\n",
              "    20% {\n",
              "      border-color: transparent;\n",
              "      border-left-color: var(--fill-color);\n",
              "      border-top-color: var(--fill-color);\n",
              "    }\n",
              "    30% {\n",
              "      border-color: transparent;\n",
              "      border-left-color: var(--fill-color);\n",
              "      border-top-color: var(--fill-color);\n",
              "      border-right-color: var(--fill-color);\n",
              "    }\n",
              "    40% {\n",
              "      border-color: transparent;\n",
              "      border-right-color: var(--fill-color);\n",
              "      border-top-color: var(--fill-color);\n",
              "    }\n",
              "    60% {\n",
              "      border-color: transparent;\n",
              "      border-right-color: var(--fill-color);\n",
              "    }\n",
              "    80% {\n",
              "      border-color: transparent;\n",
              "      border-right-color: var(--fill-color);\n",
              "      border-bottom-color: var(--fill-color);\n",
              "    }\n",
              "    90% {\n",
              "      border-color: transparent;\n",
              "      border-bottom-color: var(--fill-color);\n",
              "    }\n",
              "  }\n",
              "</style>\n",
              "\n",
              "  <script>\n",
              "    async function quickchart(key) {\n",
              "      const quickchartButtonEl =\n",
              "        document.querySelector('#' + key + ' button');\n",
              "      quickchartButtonEl.disabled = true;  // To prevent multiple clicks.\n",
              "      quickchartButtonEl.classList.add('colab-df-spinner');\n",
              "      try {\n",
              "        const charts = await google.colab.kernel.invokeFunction(\n",
              "            'suggestCharts', [key], {});\n",
              "      } catch (error) {\n",
              "        console.error('Error during call to suggestCharts:', error);\n",
              "      }\n",
              "      quickchartButtonEl.classList.remove('colab-df-spinner');\n",
              "      quickchartButtonEl.classList.add('colab-df-quickchart-complete');\n",
              "    }\n",
              "    (() => {\n",
              "      let quickchartButtonEl =\n",
              "        document.querySelector('#df-41489e4e-a83b-422e-aefd-b80c8ed2a256 button');\n",
              "      quickchartButtonEl.style.display =\n",
              "        google.colab.kernel.accessAllowed ? 'block' : 'none';\n",
              "    })();\n",
              "  </script>\n",
              "</div>\n",
              "\n",
              "    </div>\n",
              "  </div>\n"
            ],
            "application/vnd.google.colaboratory.intrinsic+json": {
              "type": "dataframe",
              "summary": "{\n  \"name\": \"scaled_features_df\",\n  \"rows\": 4,\n  \"fields\": [\n    {\n      \"column\": \"cluster\",\n      \"properties\": {\n        \"dtype\": \"int32\",\n        \"num_unique_values\": 4,\n        \"samples\": [\n          1,\n          3,\n          0\n        ],\n        \"semantic_type\": \"\",\n        \"description\": \"\"\n      }\n    },\n    {\n      \"column\": \"danceability\",\n      \"properties\": {\n        \"dtype\": \"number\",\n        \"std\": 0.11796084297618643,\n        \"min\": 0.30319763821021367,\n        \"max\": 0.5920807534956745,\n        \"num_unique_values\": 4,\n        \"samples\": [\n          0.5920807534956745,\n          0.4445432956303559,\n          0.30319763821021367\n        ],\n        \"semantic_type\": \"\",\n        \"description\": \"\"\n      }\n    },\n    {\n      \"column\": \"energy\",\n      \"properties\": {\n        \"dtype\": \"number\",\n        \"std\": 0.3513770821486587,\n        \"min\": 0.19059850687340726,\n        \"max\": 0.848930279485835,\n        \"num_unique_values\": 4,\n        \"samples\": [\n          0.7510368779787332,\n          0.19059850687340726,\n          0.848930279485835\n        ],\n        \"semantic_type\": \"\",\n        \"description\": \"\"\n      }\n    },\n    {\n      \"column\": \"loudness\",\n      \"properties\": {\n        \"dtype\": \"number\",\n        \"std\": 0.002177689411758541,\n        \"min\": 0.5284318987699061,\n        \"max\": 0.5325919850064859,\n        \"num_unique_values\": 4,\n        \"samples\": [\n          0.5325919850064859,\n          0.5289702733399929,\n          0.5323043741669696\n        ],\n        \"semantic_type\": \"\",\n        \"description\": \"\"\n      }\n    },\n    {\n      \"column\": \"speechiness\",\n      \"properties\": {\n        \"dtype\": \"number\",\n        \"std\": 0.011739889651151808,\n        \"min\": 0.3729898623723325,\n        \"max\": 0.3979772360020918,\n        \"num_unique_values\": 4,\n        \"samples\": [\n          0.3979772360020918,\n          0.3729898623723325,\n          0.3977856692671507\n        ],\n        \"semantic_type\": \"\",\n        \"description\": \"\"\n      }\n    },\n    {\n      \"column\": \"liveness\",\n      \"properties\": {\n        \"dtype\": \"number\",\n        \"std\": 0.29747295839825044,\n        \"min\": 0.15328656345588615,\n        \"max\": 0.8097539599685522,\n        \"num_unique_values\": 4,\n        \"samples\": [\n          0.45503277800659075,\n          0.15328656345588615,\n          0.21571370312111052\n        ],\n        \"semantic_type\": \"\",\n        \"description\": \"\"\n      }\n    },\n    {\n      \"column\": \"valence\",\n      \"properties\": {\n        \"dtype\": \"number\",\n        \"std\": 0.1494583023082177,\n        \"min\": 0.27210326075431285,\n        \"max\": 0.6295436145259893,\n        \"num_unique_values\": 4,\n        \"samples\": [\n          0.6295436145259893,\n          0.39120606751351306,\n          0.27210326075431285\n        ],\n        \"semantic_type\": \"\",\n        \"description\": \"\"\n      }\n    },\n    {\n      \"column\": \"tempo\",\n      \"properties\": {\n        \"dtype\": \"number\",\n        \"std\": 0.020042426865774884,\n        \"min\": 0.5270232434350247,\n        \"max\": 0.5693147562154292,\n        \"num_unique_values\": 4,\n        \"samples\": [\n          0.5597095591264962,\n          0.5348103915940519,\n          0.5693147562154292\n        ],\n        \"semantic_type\": \"\",\n        \"description\": \"\"\n      }\n    }\n  ]\n}"
            }
          },
          "metadata": {},
          "execution_count": 18
        }
      ],
      "source": [
        "scaled_features_df.groupby(by=\"cluster\").mean()"
      ]
    },
    {
      "cell_type": "markdown",
      "metadata": {
        "id": "de1aGl8We6cb"
      },
      "source": [
        "#### 4.2.&nbsp; Radar chart\n",
        "Having calculated the average score for each food by cluster, we now have a matrix that we can analyse. However, as data scientists with coding skills, we can visualise this information to gain a clearer understanding of why certain people are clustered together and why others aren't.\n",
        "\n",
        "Visualising the data can help us to identify patterns and trends that would be difficult to see in a matrix. For example, we might be able to see that certain foods are consistently grouped together, while others are more spread out. This could suggest that there are different subgroups of students with different dietary preferences.\n",
        "\n",
        "We can also use visualisation to identify outliers. For example, we might find a few students who have very different food preferences than the rest of the group. This could be due to a variety of factors, such as cultural background, medical conditions, or personal preferences."
      ]
    },
    {
      "cell_type": "code",
      "execution_count": null,
      "metadata": {
        "colab": {
          "base_uri": "https://localhost:8080/",
          "height": 617
        },
        "id": "_SF_GqPaesBd",
        "outputId": "4129fe42-2ed4-48cc-fd73-ca49ee5d06d9"
      },
      "outputs": [
        {
          "output_type": "display_data",
          "data": {
            "text/html": [
              "<html>\n",
              "<head><meta charset=\"utf-8\" /></head>\n",
              "<body>\n",
              "    <div>            <script src=\"https://cdnjs.cloudflare.com/ajax/libs/mathjax/2.7.5/MathJax.js?config=TeX-AMS-MML_SVG\"></script><script type=\"text/javascript\">if (window.MathJax && window.MathJax.Hub && window.MathJax.Hub.Config) {window.MathJax.Hub.Config({SVG: {font: \"STIX-Web\"}});}</script>                <script type=\"text/javascript\">window.PlotlyConfig = {MathJaxConfig: 'local'};</script>\n",
              "        <script charset=\"utf-8\" src=\"https://cdn.plot.ly/plotly-2.35.2.min.js\"></script>                <div id=\"68ee04ca-e074-4113-88f6-4e1263f86fb8\" class=\"plotly-graph-div\" style=\"height:600px; width:800px;\"></div>            <script type=\"text/javascript\">                                    window.PLOTLYENV=window.PLOTLYENV || {};                                    if (document.getElementById(\"68ee04ca-e074-4113-88f6-4e1263f86fb8\")) {                    Plotly.newPlot(                        \"68ee04ca-e074-4113-88f6-4e1263f86fb8\",                        [{\"fill\":\"toself\",\"name\":\"Cluster 0\",\"r\":[0.30319763821021367,0.8489302794858351,0.5323043741669696,0.3977856692671508,0.21571370312111052,0.27210326075431285,0.5693147562154292],\"theta\":[\"danceability\",\"energy\",\"loudness\",\"speechiness\",\"liveness\",\"valence\",\"tempo\"],\"type\":\"scatterpolar\"},{\"fill\":\"toself\",\"name\":\"Cluster 1\",\"r\":[0.5920807534956745,0.7510368779787333,0.5325919850064859,0.3979772360020917,0.45503277800659075,0.6295436145259893,0.5597095591264962],\"theta\":[\"danceability\",\"energy\",\"loudness\",\"speechiness\",\"liveness\",\"valence\",\"tempo\"],\"type\":\"scatterpolar\"},{\"fill\":\"toself\",\"name\":\"Cluster 2\",\"r\":[0.4427489831694027,0.20013663882831326,0.5284318987699061,0.39031073992447385,0.8097539599685522,0.3990749309778355,0.5270232434350247],\"theta\":[\"danceability\",\"energy\",\"loudness\",\"speechiness\",\"liveness\",\"valence\",\"tempo\"],\"type\":\"scatterpolar\"},{\"fill\":\"toself\",\"name\":\"Cluster 3\",\"r\":[0.44454329563035594,0.19059850687340726,0.5289702733399929,0.37298986237233245,0.15328656345588618,0.39120606751351306,0.5348103915940517],\"theta\":[\"danceability\",\"energy\",\"loudness\",\"speechiness\",\"liveness\",\"valence\",\"tempo\"],\"type\":\"scatterpolar\"}],                        {\"template\":{\"data\":{\"histogram2dcontour\":[{\"type\":\"histogram2dcontour\",\"colorbar\":{\"outlinewidth\":0,\"ticks\":\"\"},\"colorscale\":[[0.0,\"#0d0887\"],[0.1111111111111111,\"#46039f\"],[0.2222222222222222,\"#7201a8\"],[0.3333333333333333,\"#9c179e\"],[0.4444444444444444,\"#bd3786\"],[0.5555555555555556,\"#d8576b\"],[0.6666666666666666,\"#ed7953\"],[0.7777777777777778,\"#fb9f3a\"],[0.8888888888888888,\"#fdca26\"],[1.0,\"#f0f921\"]]}],\"choropleth\":[{\"type\":\"choropleth\",\"colorbar\":{\"outlinewidth\":0,\"ticks\":\"\"}}],\"histogram2d\":[{\"type\":\"histogram2d\",\"colorbar\":{\"outlinewidth\":0,\"ticks\":\"\"},\"colorscale\":[[0.0,\"#0d0887\"],[0.1111111111111111,\"#46039f\"],[0.2222222222222222,\"#7201a8\"],[0.3333333333333333,\"#9c179e\"],[0.4444444444444444,\"#bd3786\"],[0.5555555555555556,\"#d8576b\"],[0.6666666666666666,\"#ed7953\"],[0.7777777777777778,\"#fb9f3a\"],[0.8888888888888888,\"#fdca26\"],[1.0,\"#f0f921\"]]}],\"heatmap\":[{\"type\":\"heatmap\",\"colorbar\":{\"outlinewidth\":0,\"ticks\":\"\"},\"colorscale\":[[0.0,\"#0d0887\"],[0.1111111111111111,\"#46039f\"],[0.2222222222222222,\"#7201a8\"],[0.3333333333333333,\"#9c179e\"],[0.4444444444444444,\"#bd3786\"],[0.5555555555555556,\"#d8576b\"],[0.6666666666666666,\"#ed7953\"],[0.7777777777777778,\"#fb9f3a\"],[0.8888888888888888,\"#fdca26\"],[1.0,\"#f0f921\"]]}],\"heatmapgl\":[{\"type\":\"heatmapgl\",\"colorbar\":{\"outlinewidth\":0,\"ticks\":\"\"},\"colorscale\":[[0.0,\"#0d0887\"],[0.1111111111111111,\"#46039f\"],[0.2222222222222222,\"#7201a8\"],[0.3333333333333333,\"#9c179e\"],[0.4444444444444444,\"#bd3786\"],[0.5555555555555556,\"#d8576b\"],[0.6666666666666666,\"#ed7953\"],[0.7777777777777778,\"#fb9f3a\"],[0.8888888888888888,\"#fdca26\"],[1.0,\"#f0f921\"]]}],\"contourcarpet\":[{\"type\":\"contourcarpet\",\"colorbar\":{\"outlinewidth\":0,\"ticks\":\"\"}}],\"contour\":[{\"type\":\"contour\",\"colorbar\":{\"outlinewidth\":0,\"ticks\":\"\"},\"colorscale\":[[0.0,\"#0d0887\"],[0.1111111111111111,\"#46039f\"],[0.2222222222222222,\"#7201a8\"],[0.3333333333333333,\"#9c179e\"],[0.4444444444444444,\"#bd3786\"],[0.5555555555555556,\"#d8576b\"],[0.6666666666666666,\"#ed7953\"],[0.7777777777777778,\"#fb9f3a\"],[0.8888888888888888,\"#fdca26\"],[1.0,\"#f0f921\"]]}],\"surface\":[{\"type\":\"surface\",\"colorbar\":{\"outlinewidth\":0,\"ticks\":\"\"},\"colorscale\":[[0.0,\"#0d0887\"],[0.1111111111111111,\"#46039f\"],[0.2222222222222222,\"#7201a8\"],[0.3333333333333333,\"#9c179e\"],[0.4444444444444444,\"#bd3786\"],[0.5555555555555556,\"#d8576b\"],[0.6666666666666666,\"#ed7953\"],[0.7777777777777778,\"#fb9f3a\"],[0.8888888888888888,\"#fdca26\"],[1.0,\"#f0f921\"]]}],\"mesh3d\":[{\"type\":\"mesh3d\",\"colorbar\":{\"outlinewidth\":0,\"ticks\":\"\"}}],\"scatter\":[{\"fillpattern\":{\"fillmode\":\"overlay\",\"size\":10,\"solidity\":0.2},\"type\":\"scatter\"}],\"parcoords\":[{\"type\":\"parcoords\",\"line\":{\"colorbar\":{\"outlinewidth\":0,\"ticks\":\"\"}}}],\"scatterpolargl\":[{\"type\":\"scatterpolargl\",\"marker\":{\"colorbar\":{\"outlinewidth\":0,\"ticks\":\"\"}}}],\"bar\":[{\"error_x\":{\"color\":\"#2a3f5f\"},\"error_y\":{\"color\":\"#2a3f5f\"},\"marker\":{\"line\":{\"color\":\"#E5ECF6\",\"width\":0.5},\"pattern\":{\"fillmode\":\"overlay\",\"size\":10,\"solidity\":0.2}},\"type\":\"bar\"}],\"scattergeo\":[{\"type\":\"scattergeo\",\"marker\":{\"colorbar\":{\"outlinewidth\":0,\"ticks\":\"\"}}}],\"scatterpolar\":[{\"type\":\"scatterpolar\",\"marker\":{\"colorbar\":{\"outlinewidth\":0,\"ticks\":\"\"}}}],\"histogram\":[{\"marker\":{\"pattern\":{\"fillmode\":\"overlay\",\"size\":10,\"solidity\":0.2}},\"type\":\"histogram\"}],\"scattergl\":[{\"type\":\"scattergl\",\"marker\":{\"colorbar\":{\"outlinewidth\":0,\"ticks\":\"\"}}}],\"scatter3d\":[{\"type\":\"scatter3d\",\"line\":{\"colorbar\":{\"outlinewidth\":0,\"ticks\":\"\"}},\"marker\":{\"colorbar\":{\"outlinewidth\":0,\"ticks\":\"\"}}}],\"scattermapbox\":[{\"type\":\"scattermapbox\",\"marker\":{\"colorbar\":{\"outlinewidth\":0,\"ticks\":\"\"}}}],\"scatterternary\":[{\"type\":\"scatterternary\",\"marker\":{\"colorbar\":{\"outlinewidth\":0,\"ticks\":\"\"}}}],\"scattercarpet\":[{\"type\":\"scattercarpet\",\"marker\":{\"colorbar\":{\"outlinewidth\":0,\"ticks\":\"\"}}}],\"carpet\":[{\"aaxis\":{\"endlinecolor\":\"#2a3f5f\",\"gridcolor\":\"white\",\"linecolor\":\"white\",\"minorgridcolor\":\"white\",\"startlinecolor\":\"#2a3f5f\"},\"baxis\":{\"endlinecolor\":\"#2a3f5f\",\"gridcolor\":\"white\",\"linecolor\":\"white\",\"minorgridcolor\":\"white\",\"startlinecolor\":\"#2a3f5f\"},\"type\":\"carpet\"}],\"table\":[{\"cells\":{\"fill\":{\"color\":\"#EBF0F8\"},\"line\":{\"color\":\"white\"}},\"header\":{\"fill\":{\"color\":\"#C8D4E3\"},\"line\":{\"color\":\"white\"}},\"type\":\"table\"}],\"barpolar\":[{\"marker\":{\"line\":{\"color\":\"#E5ECF6\",\"width\":0.5},\"pattern\":{\"fillmode\":\"overlay\",\"size\":10,\"solidity\":0.2}},\"type\":\"barpolar\"}],\"pie\":[{\"automargin\":true,\"type\":\"pie\"}]},\"layout\":{\"autotypenumbers\":\"strict\",\"colorway\":[\"#636efa\",\"#EF553B\",\"#00cc96\",\"#ab63fa\",\"#FFA15A\",\"#19d3f3\",\"#FF6692\",\"#B6E880\",\"#FF97FF\",\"#FECB52\"],\"font\":{\"color\":\"#2a3f5f\"},\"hovermode\":\"closest\",\"hoverlabel\":{\"align\":\"left\"},\"paper_bgcolor\":\"white\",\"plot_bgcolor\":\"#E5ECF6\",\"polar\":{\"bgcolor\":\"#E5ECF6\",\"angularaxis\":{\"gridcolor\":\"white\",\"linecolor\":\"white\",\"ticks\":\"\"},\"radialaxis\":{\"gridcolor\":\"white\",\"linecolor\":\"white\",\"ticks\":\"\"}},\"ternary\":{\"bgcolor\":\"#E5ECF6\",\"aaxis\":{\"gridcolor\":\"white\",\"linecolor\":\"white\",\"ticks\":\"\"},\"baxis\":{\"gridcolor\":\"white\",\"linecolor\":\"white\",\"ticks\":\"\"},\"caxis\":{\"gridcolor\":\"white\",\"linecolor\":\"white\",\"ticks\":\"\"}},\"coloraxis\":{\"colorbar\":{\"outlinewidth\":0,\"ticks\":\"\"}},\"colorscale\":{\"sequential\":[[0.0,\"#0d0887\"],[0.1111111111111111,\"#46039f\"],[0.2222222222222222,\"#7201a8\"],[0.3333333333333333,\"#9c179e\"],[0.4444444444444444,\"#bd3786\"],[0.5555555555555556,\"#d8576b\"],[0.6666666666666666,\"#ed7953\"],[0.7777777777777778,\"#fb9f3a\"],[0.8888888888888888,\"#fdca26\"],[1.0,\"#f0f921\"]],\"sequentialminus\":[[0.0,\"#0d0887\"],[0.1111111111111111,\"#46039f\"],[0.2222222222222222,\"#7201a8\"],[0.3333333333333333,\"#9c179e\"],[0.4444444444444444,\"#bd3786\"],[0.5555555555555556,\"#d8576b\"],[0.6666666666666666,\"#ed7953\"],[0.7777777777777778,\"#fb9f3a\"],[0.8888888888888888,\"#fdca26\"],[1.0,\"#f0f921\"]],\"diverging\":[[0,\"#8e0152\"],[0.1,\"#c51b7d\"],[0.2,\"#de77ae\"],[0.3,\"#f1b6da\"],[0.4,\"#fde0ef\"],[0.5,\"#f7f7f7\"],[0.6,\"#e6f5d0\"],[0.7,\"#b8e186\"],[0.8,\"#7fbc41\"],[0.9,\"#4d9221\"],[1,\"#276419\"]]},\"xaxis\":{\"gridcolor\":\"white\",\"linecolor\":\"white\",\"ticks\":\"\",\"title\":{\"standoff\":15},\"zerolinecolor\":\"white\",\"automargin\":true,\"zerolinewidth\":2},\"yaxis\":{\"gridcolor\":\"white\",\"linecolor\":\"white\",\"ticks\":\"\",\"title\":{\"standoff\":15},\"zerolinecolor\":\"white\",\"automargin\":true,\"zerolinewidth\":2},\"scene\":{\"xaxis\":{\"backgroundcolor\":\"#E5ECF6\",\"gridcolor\":\"white\",\"linecolor\":\"white\",\"showbackground\":true,\"ticks\":\"\",\"zerolinecolor\":\"white\",\"gridwidth\":2},\"yaxis\":{\"backgroundcolor\":\"#E5ECF6\",\"gridcolor\":\"white\",\"linecolor\":\"white\",\"showbackground\":true,\"ticks\":\"\",\"zerolinecolor\":\"white\",\"gridwidth\":2},\"zaxis\":{\"backgroundcolor\":\"#E5ECF6\",\"gridcolor\":\"white\",\"linecolor\":\"white\",\"showbackground\":true,\"ticks\":\"\",\"zerolinecolor\":\"white\",\"gridwidth\":2}},\"shapedefaults\":{\"line\":{\"color\":\"#2a3f5f\"}},\"annotationdefaults\":{\"arrowcolor\":\"#2a3f5f\",\"arrowhead\":0,\"arrowwidth\":1},\"geo\":{\"bgcolor\":\"white\",\"landcolor\":\"#E5ECF6\",\"subunitcolor\":\"white\",\"showland\":true,\"showlakes\":true,\"lakecolor\":\"white\"},\"title\":{\"x\":0.05},\"mapbox\":{\"style\":\"light\"}}},\"title\":{\"text\":\"Radar Chart of Mean Features by Cluster\"},\"polar\":{\"radialaxis\":{\"visible\":true,\"range\":[0,1]}},\"height\":600,\"width\":800,\"showlegend\":true},                        {\"responsive\": true}                    ).then(function(){\n",
              "                            \n",
              "var gd = document.getElementById('68ee04ca-e074-4113-88f6-4e1263f86fb8');\n",
              "var x = new MutationObserver(function (mutations, observer) {{\n",
              "        var display = window.getComputedStyle(gd).display;\n",
              "        if (!display || display === 'none') {{\n",
              "            console.log([gd, 'removed!']);\n",
              "            Plotly.purge(gd);\n",
              "            observer.disconnect();\n",
              "        }}\n",
              "}});\n",
              "\n",
              "// Listen for the removal of the full notebook cells\n",
              "var notebookContainer = gd.closest('#notebook-container');\n",
              "if (notebookContainer) {{\n",
              "    x.observe(notebookContainer, {childList: true});\n",
              "}}\n",
              "\n",
              "// Listen for the clearing of the current output cell\n",
              "var outputEl = gd.closest('.output');\n",
              "if (outputEl) {{\n",
              "    x.observe(outputEl, {childList: true});\n",
              "}}\n",
              "\n",
              "                        })                };                            </script>        </div>\n",
              "</body>\n",
              "</html>"
            ]
          },
          "metadata": {}
        }
      ],
      "source": [
        "import plotly.graph_objects as go\n",
        "\n",
        "# Create an empty list to store the Scatterpolar object of each cluster\n",
        "scatter_objects = []\n",
        "\n",
        "# State the label for each arm of the chart\n",
        "categories = scaled_features_df.columns[:-1]  # Exclude 'cluster' column\n",
        "\n",
        "# Iterate over the unique clusters and add an object for each cluster to the list\n",
        "for cluster in sorted(scaled_features_df['cluster'].unique()):\n",
        "    # Calculate mean values for all features in the current cluster using list comprehension\n",
        "    cluster_means = [scaled_features_df.loc[scaled_features_df[\"cluster\"] == cluster, col].mean() for col in categories]\n",
        "\n",
        "    # Create a Scatterpolar object for the cluster\n",
        "    cluster_scatter = go.Scatterpolar(\n",
        "        r=cluster_means,  # set the radial coordinates\n",
        "        theta=categories,  # the names of the columns\n",
        "        fill='toself',  # fills in the space with colour\n",
        "        name=f'Cluster {cluster}'  # adds the name of the cluster\n",
        "    )\n",
        "\n",
        "    # Add the Scatterpolar object to the list\n",
        "    scatter_objects.append(cluster_scatter)\n",
        "\n",
        "# Create the figure (the white area)\n",
        "fig = go.Figure()\n",
        "\n",
        "# Add the scatter objects to the figure\n",
        "fig.add_traces(scatter_objects)\n",
        "\n",
        "# Add extras to the plot, such as title\n",
        "fig.update_layout(\n",
        "    title_text='Radar Chart of Mean Features by Cluster',\n",
        "    height=600,\n",
        "    width=800,\n",
        "    polar=dict(\n",
        "        radialaxis=dict(\n",
        "            visible=True,  # visibility of the numbers on the arm\n",
        "            range=[0, 1]  # scale of the plot\n",
        "        )\n",
        "    ),\n",
        "    showlegend=True\n",
        ")\n",
        "\n",
        "# Show the plot\n",
        "fig.show()\n"
      ]
    },
    {
      "cell_type": "code",
      "source": [
        "from sklearn.cluster import KMeans\n",
        "\n",
        "# Re-run clustering with different initialization\n",
        "kmeans = KMeans(n_clusters=4, init='k-means++', n_init=10, random_state=42)\n",
        "clusters = kmeans.fit_predict(scaled_features_df)\n",
        "\n",
        "# Assign the clusters to the dataframe\n",
        "songs_df['cluster'] = clusters\n",
        "\n",
        "\n"
      ],
      "metadata": {
        "id": "0XTy0TM68dGg"
      },
      "execution_count": null,
      "outputs": []
    },
    {
      "cell_type": "code",
      "source": [
        "import pandas as pd\n",
        "\n",
        "# Reload the dataset (adjust path and file format)\n",
        "original_df = pd.read_csv(url, index_col=\"Unnamed: 0\")  # Do NOT drop \"artist\" and \"name\"\n",
        "\n",
        "# Reattach artist and songname columns to songs_df\n",
        "songs_df[\"artist\"] = original_df[\"artist\"]\n",
        "songs_df[\"songname\"] = original_df[\"name\"]\n",
        "\n",
        "# Add the cluster labels\n",
        "songs_df[\"cluster\"] = clusters\n",
        "\n",
        "# Group by clusters\n",
        "for cluster in sorted(songs_df[\"cluster\"].unique()):\n",
        "    print(f\"Cluster {cluster}:\")\n",
        "    print(songs_df[songs_df[\"cluster\"] == cluster][[\"artist\", \"songname\"]].tail(3))\n"
      ],
      "metadata": {
        "colab": {
          "base_uri": "https://localhost:8080/"
        },
        "id": "aeOPSuX37Y7k",
        "outputId": "ef808888-7302-47e1-c1ec-00360e9c7851"
      },
      "execution_count": null,
      "outputs": [
        {
          "output_type": "stream",
          "name": "stdout",
          "text": [
            "Cluster 0:\n",
            "              artist                                           songname\n",
            "5231  Tristan Murail  Winter Fragments pour ensemble instrumental, s...\n",
            "5233  Antonín Dvořák  Serenade For Strings In E, Op.22, B. 52: 1. Mo...\n",
            "5234   Maurice Ravel  Ravel: Boléro, M. 81                          ...\n",
            "Cluster 1:\n",
            "                        artist  \\\n",
            "5228               Béla Bartók   \n",
            "5230  Pyotr Ilyich Tchaikovsky   \n",
            "5232         Arnold Schoenberg   \n",
            "\n",
            "                                               songname  \n",
            "5228  Music for Strings, Percussion and Celesta, BB ...  \n",
            "5230  1812 Festival Overture, Op. 49: 1812 Overture,...  \n",
            "5232  Schoenberg: 5 Orchestral Pieces, Op. 16: No. 3...  \n",
            "Cluster 2:\n",
            "                     artist                                           songname\n",
            "5165       Sergei Prokofiev  Symphony No.1 in D, Op.25 \"Classical Symphony\"...\n",
            "5171  Einojuhani Rautavaara  Cantus arcticus, Op. 61, \"Concerto for Birds a...\n",
            "5224       Allan Pettersson                                     Symphony No. 6\n",
            "Cluster 3:\n",
            "              artist                                           songname\n",
            "5215   György Ligeti                                            Lontano\n",
            "5221  Claude Debussy  Jeux, poème dansé, L.126                      ...\n",
            "5222  Anton Bruckner  Symphony No. 6 in A Major, WAB 106 (ed. L. Now...\n"
          ]
        }
      ]
    },
    {
      "cell_type": "code",
      "source": [
        "# Loop through all expected clusters (assuming 4 clusters)\n",
        "for cluster in range(4):  # Adjust the range if the number of clusters is different\n",
        "    print(f\"Cluster {cluster}:\")\n",
        "    cluster_songs = songs_df[songs_df[\"cluster\"] == cluster]\n",
        "    if cluster_songs.empty:\n",
        "        print(\"No songs in this cluster.\")\n",
        "    else:\n",
        "        print(cluster_songs[[\"artist\", \"songname\"]].head().to_string(index=False))\n",
        "    print(\"\\n\")\n"
      ],
      "metadata": {
        "colab": {
          "base_uri": "https://localhost:8080/"
        },
        "id": "5rFddZLS7rLP",
        "outputId": "6e0e3c00-54a3-45b1-acf2-1d1462ad974d"
      },
      "execution_count": null,
      "outputs": [
        {
          "output_type": "stream",
          "name": "stdout",
          "text": [
            "Cluster 0:\n",
            "                       artist                               songname\n",
            "            Sílvia Pérez Cruz                                Não Sei\n",
            "                    Stan Getz                              Corcovado\n",
            "                  Tribalistas Já Sei Namorar - 2004 Digital Remaster\n",
            "Pete Krebs & The Kung Pao Chi                           Bossa Dorado\n",
            "                 Luisa Sobral                                   Inês\n",
            "\n",
            "\n",
            "Cluster 1:\n",
            "              artist            songname\n",
            "Antônio Carlos Jobim    Saudade De Bahia\n",
            "         Chico César       Mulher Eu Sei\n",
            "   Sílvia Pérez Cruz O Meu Amor É Glòria\n",
            "   Paula Morelenbaum   Brigas Nunca Mais\n",
            "       Bossacucanova            Previsao\n",
            "\n",
            "\n",
            "Cluster 2:\n",
            "          artist                                                                                                                                                                        songname\n",
            "    Gilberto Gil                                                                                                                                                     Se Eu Quiser Falar Com Deus\n",
            "Martinho Da Vila Canta Canta, Minha Gente                                                                                                                                                       \n",
            "     Kurt Elling                                                                                                                                                                     Rosa Morena\n",
            "       Stan Getz                                                                                                                                                                      Desafinado\n",
            "  Maria Gasolina                                                                                                                                                                        Madalena\n",
            "\n",
            "\n",
            "Cluster 3:\n",
            "No songs in this cluster.\n",
            "\n",
            "\n"
          ]
        }
      ]
    }
  ],
  "metadata": {
    "colab": {
      "provenance": []
    },
    "kernelspec": {
      "display_name": "Python 3",
      "name": "python3"
    },
    "language_info": {
      "codemirror_mode": {
        "name": "ipython",
        "version": 3
      },
      "file_extension": ".py",
      "mimetype": "text/x-python",
      "name": "python",
      "nbconvert_exporter": "python",
      "pygments_lexer": "ipython3",
      "version": "3.11.7"
    }
  },
  "nbformat": 4,
  "nbformat_minor": 0
}